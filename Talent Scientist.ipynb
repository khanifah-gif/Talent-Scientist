{
 "cells": [
  {
   "cell_type": "code",
   "execution_count": 1,
   "id": "2106df78",
   "metadata": {},
   "outputs": [],
   "source": [
    "#Import library yang dibutuhkan\n",
    "\n",
    "import pandas as pd\n",
    "import numpy as np"
   ]
  },
  {
   "cell_type": "code",
   "execution_count": 2,
   "id": "72750b96",
   "metadata": {
    "scrolled": true
   },
   "outputs": [
    {
     "data": {
      "text/html": [
       "<div>\n",
       "<style scoped>\n",
       "    .dataframe tbody tr th:only-of-type {\n",
       "        vertical-align: middle;\n",
       "    }\n",
       "\n",
       "    .dataframe tbody tr th {\n",
       "        vertical-align: top;\n",
       "    }\n",
       "\n",
       "    .dataframe thead th {\n",
       "        text-align: right;\n",
       "    }\n",
       "</style>\n",
       "<table border=\"1\" class=\"dataframe\">\n",
       "  <thead>\n",
       "    <tr style=\"text-align: right;\">\n",
       "      <th></th>\n",
       "      <th>Participant Code</th>\n",
       "      <th>Region</th>\n",
       "      <th>log_berpikir</th>\n",
       "      <th>k_numerikal</th>\n",
       "      <th>d_analisa</th>\n",
       "      <th>k_verbal</th>\n",
       "      <th>o_hasil</th>\n",
       "      <th>fleks</th>\n",
       "      <th>s_kerja</th>\n",
       "      <th>m_prestasi</th>\n",
       "      <th>kerjasama</th>\n",
       "      <th>k_interpersonal</th>\n",
       "      <th>pil_jabatan</th>\n",
       "      <th>prosen_kecocokan</th>\n",
       "      <th>hasil_rekomendasi</th>\n",
       "    </tr>\n",
       "  </thead>\n",
       "  <tbody>\n",
       "    <tr>\n",
       "      <th>0</th>\n",
       "      <td>DCX_001</td>\n",
       "      <td>BALI NUSRA</td>\n",
       "      <td>2</td>\n",
       "      <td>2</td>\n",
       "      <td>3</td>\n",
       "      <td>3</td>\n",
       "      <td>3</td>\n",
       "      <td>3</td>\n",
       "      <td>3</td>\n",
       "      <td>2</td>\n",
       "      <td>3</td>\n",
       "      <td>4</td>\n",
       "      <td>SALES</td>\n",
       "      <td>91.67</td>\n",
       "      <td>Disarankan</td>\n",
       "    </tr>\n",
       "    <tr>\n",
       "      <th>1</th>\n",
       "      <td>DCX_002</td>\n",
       "      <td>BALI NUSRA</td>\n",
       "      <td>3</td>\n",
       "      <td>3</td>\n",
       "      <td>3</td>\n",
       "      <td>3</td>\n",
       "      <td>4</td>\n",
       "      <td>4</td>\n",
       "      <td>4</td>\n",
       "      <td>4</td>\n",
       "      <td>5</td>\n",
       "      <td>5</td>\n",
       "      <td>SALES</td>\n",
       "      <td>94.17</td>\n",
       "      <td>Disarankan</td>\n",
       "    </tr>\n",
       "    <tr>\n",
       "      <th>2</th>\n",
       "      <td>DCX_003</td>\n",
       "      <td>BALI NUSRA</td>\n",
       "      <td>3</td>\n",
       "      <td>3</td>\n",
       "      <td>4</td>\n",
       "      <td>3</td>\n",
       "      <td>5</td>\n",
       "      <td>3</td>\n",
       "      <td>4</td>\n",
       "      <td>4</td>\n",
       "      <td>5</td>\n",
       "      <td>4</td>\n",
       "      <td>SALES</td>\n",
       "      <td>94.17</td>\n",
       "      <td>Disarankan</td>\n",
       "    </tr>\n",
       "    <tr>\n",
       "      <th>3</th>\n",
       "      <td>DCX_004</td>\n",
       "      <td>BALI NUSRA</td>\n",
       "      <td>3</td>\n",
       "      <td>3</td>\n",
       "      <td>3</td>\n",
       "      <td>3</td>\n",
       "      <td>5</td>\n",
       "      <td>4</td>\n",
       "      <td>4</td>\n",
       "      <td>5</td>\n",
       "      <td>5</td>\n",
       "      <td>3</td>\n",
       "      <td>SALES</td>\n",
       "      <td>91.67</td>\n",
       "      <td>Disarankan</td>\n",
       "    </tr>\n",
       "    <tr>\n",
       "      <th>4</th>\n",
       "      <td>DCX_005</td>\n",
       "      <td>BALI NUSRA</td>\n",
       "      <td>3</td>\n",
       "      <td>2</td>\n",
       "      <td>3</td>\n",
       "      <td>3</td>\n",
       "      <td>3</td>\n",
       "      <td>3</td>\n",
       "      <td>3</td>\n",
       "      <td>2</td>\n",
       "      <td>4</td>\n",
       "      <td>3</td>\n",
       "      <td>SALES</td>\n",
       "      <td>91.67</td>\n",
       "      <td>Disarankan</td>\n",
       "    </tr>\n",
       "  </tbody>\n",
       "</table>\n",
       "</div>"
      ],
      "text/plain": [
       "  Participant Code      Region  log_berpikir  k_numerikal  d_analisa  \\\n",
       "0          DCX_001  BALI NUSRA             2            2          3   \n",
       "1          DCX_002  BALI NUSRA             3            3          3   \n",
       "2          DCX_003  BALI NUSRA             3            3          4   \n",
       "3          DCX_004  BALI NUSRA             3            3          3   \n",
       "4          DCX_005  BALI NUSRA             3            2          3   \n",
       "\n",
       "   k_verbal  o_hasil  fleks  s_kerja  m_prestasi  kerjasama  k_interpersonal  \\\n",
       "0         3        3      3        3           2          3                4   \n",
       "1         3        4      4        4           4          5                5   \n",
       "2         3        5      3        4           4          5                4   \n",
       "3         3        5      4        4           5          5                3   \n",
       "4         3        3      3        3           2          4                3   \n",
       "\n",
       "  pil_jabatan  prosen_kecocokan hasil_rekomendasi  \n",
       "0       SALES             91.67        Disarankan  \n",
       "1       SALES             94.17        Disarankan  \n",
       "2       SALES             94.17        Disarankan  \n",
       "3       SALES             91.67        Disarankan  \n",
       "4       SALES             91.67        Disarankan  "
      ]
     },
     "execution_count": 2,
     "metadata": {},
     "output_type": "execute_result"
    }
   ],
   "source": [
    "#Load dataset\n",
    "\n",
    "data = pd.read_csv('Studi Kasus Data HR - Studi Kasus Data HR.csv', sep=';')\n",
    "data.head()"
   ]
  },
  {
   "cell_type": "markdown",
   "id": "e411d56b",
   "metadata": {},
   "source": [
    "# Inspeksi data"
   ]
  },
  {
   "cell_type": "code",
   "execution_count": 3,
   "id": "f3fd701c",
   "metadata": {},
   "outputs": [
    {
     "name": "stdout",
     "output_type": "stream",
     "text": [
      "<class 'pandas.core.frame.DataFrame'>\n",
      "RangeIndex: 16354 entries, 0 to 16353\n",
      "Data columns (total 15 columns):\n",
      " #   Column             Non-Null Count  Dtype  \n",
      "---  ------             --------------  -----  \n",
      " 0   Participant Code   16354 non-null  object \n",
      " 1   Region             13266 non-null  object \n",
      " 2   log_berpikir       16354 non-null  int64  \n",
      " 3   k_numerikal        16354 non-null  int64  \n",
      " 4   d_analisa          16354 non-null  int64  \n",
      " 5   k_verbal           16354 non-null  int64  \n",
      " 6   o_hasil            16354 non-null  int64  \n",
      " 7   fleks              16354 non-null  int64  \n",
      " 8   s_kerja            16354 non-null  int64  \n",
      " 9   m_prestasi         16354 non-null  int64  \n",
      " 10  kerjasama          16354 non-null  int64  \n",
      " 11  k_interpersonal    16354 non-null  int64  \n",
      " 12  pil_jabatan        16354 non-null  object \n",
      " 13  prosen_kecocokan   16354 non-null  float64\n",
      " 14  hasil_rekomendasi  16354 non-null  object \n",
      "dtypes: float64(1), int64(10), object(4)\n",
      "memory usage: 1.9+ MB\n"
     ]
    }
   ],
   "source": [
    "data.info()"
   ]
  },
  {
   "cell_type": "code",
   "execution_count": 4,
   "id": "92270637",
   "metadata": {
    "scrolled": true
   },
   "outputs": [
    {
     "data": {
      "text/plain": [
       "Participant Code        0\n",
       "Region               3088\n",
       "log_berpikir            0\n",
       "k_numerikal             0\n",
       "d_analisa               0\n",
       "k_verbal                0\n",
       "o_hasil                 0\n",
       "fleks                   0\n",
       "s_kerja                 0\n",
       "m_prestasi              0\n",
       "kerjasama               0\n",
       "k_interpersonal         0\n",
       "pil_jabatan             0\n",
       "prosen_kecocokan        0\n",
       "hasil_rekomendasi       0\n",
       "dtype: int64"
      ]
     },
     "execution_count": 4,
     "metadata": {},
     "output_type": "execute_result"
    }
   ],
   "source": [
    "data.isnull().sum()"
   ]
  },
  {
   "cell_type": "markdown",
   "id": "25bf1ea7",
   "metadata": {},
   "source": [
    "Terdapat missing value pada kolom region sebanyak 3088 baris. "
   ]
  },
  {
   "cell_type": "code",
   "execution_count": 5,
   "id": "c9ab1c0f",
   "metadata": {},
   "outputs": [
    {
     "data": {
      "text/plain": [
       "(16354, 15)"
      ]
     },
     "execution_count": 5,
     "metadata": {},
     "output_type": "execute_result"
    }
   ],
   "source": [
    "data.shape"
   ]
  },
  {
   "cell_type": "markdown",
   "id": "ea35164e",
   "metadata": {},
   "source": [
    "Dimensi datanya adalah 16354 baris dan 15 kolom. Jika baris dengan nilai missing valuenya dihapus, maka akan kehilangan data sebanyak 18,88% dari total data keseluruhan. Jumlah ini tidak akan menghilangkan informasi yang signifikan dari data. Oleh karena itu, baris dengan missing value dihapus untuk memudahkan analisis."
   ]
  },
  {
   "cell_type": "code",
   "execution_count": 6,
   "id": "06858a42",
   "metadata": {},
   "outputs": [
    {
     "data": {
      "text/plain": [
       "array(['BALI NUSRA', 'HEAD OFFICE', 'JAKARTA', 'JAWA BARAT',\n",
       "       'JAWA TENGAH', 'JAWA TIMUR', 'KALIMANTAN', 'SULAWESI',\n",
       "       'SUMATERA 1', 'SUMATERA 2', '-', nan], dtype=object)"
      ]
     },
     "execution_count": 6,
     "metadata": {},
     "output_type": "execute_result"
    }
   ],
   "source": [
    "data['Region'].unique()"
   ]
  },
  {
   "cell_type": "markdown",
   "id": "6d95e380",
   "metadata": {},
   "source": [
    "Hasil sintaks di atas memberikan informasi terdapat nilai '-' pada kolom region. Nilai ini diganti dengan string 'UNKNOWN REGION' untuk memudahkan analisis."
   ]
  },
  {
   "cell_type": "code",
   "execution_count": 7,
   "id": "778af847",
   "metadata": {},
   "outputs": [
    {
     "name": "stdout",
     "output_type": "stream",
     "text": [
      "8357\n"
     ]
    }
   ],
   "source": [
    "#Mencari tahu jumlah baris dengan nilai region '-'\n",
    "\n",
    "region_nonvalid = (data['Region'] == '-').sum()\n",
    "print(region_nonvalid)"
   ]
  },
  {
   "cell_type": "code",
   "execution_count": 8,
   "id": "9fbecfa3",
   "metadata": {},
   "outputs": [],
   "source": [
    "#Ganti nama '-' menjadi 'UNKNOWN'\n",
    "\n",
    "data['Region'] = data['Region'].replace('-', 'UNKNOWN')"
   ]
  },
  {
   "cell_type": "code",
   "execution_count": 9,
   "id": "0a1dd303",
   "metadata": {},
   "outputs": [],
   "source": [
    "#Menghapus missing value\n",
    "\n",
    "data = data.dropna(subset=['Region'])"
   ]
  },
  {
   "cell_type": "code",
   "execution_count": 10,
   "id": "0dc6a3d6",
   "metadata": {},
   "outputs": [
    {
     "data": {
      "text/plain": [
       "array(['BALI NUSRA', 'HEAD OFFICE', 'JAKARTA', 'JAWA BARAT',\n",
       "       'JAWA TENGAH', 'JAWA TIMUR', 'KALIMANTAN', 'SULAWESI',\n",
       "       'SUMATERA 1', 'SUMATERA 2', 'UNKNOWN'], dtype=object)"
      ]
     },
     "execution_count": 10,
     "metadata": {},
     "output_type": "execute_result"
    }
   ],
   "source": [
    "data['Region'].unique()"
   ]
  },
  {
   "cell_type": "code",
   "execution_count": 11,
   "id": "a19ef01b",
   "metadata": {},
   "outputs": [
    {
     "name": "stdout",
     "output_type": "stream",
     "text": [
      "<class 'pandas.core.frame.DataFrame'>\n",
      "Int64Index: 13266 entries, 0 to 13265\n",
      "Data columns (total 15 columns):\n",
      " #   Column             Non-Null Count  Dtype  \n",
      "---  ------             --------------  -----  \n",
      " 0   Participant Code   13266 non-null  object \n",
      " 1   Region             13266 non-null  object \n",
      " 2   log_berpikir       13266 non-null  int64  \n",
      " 3   k_numerikal        13266 non-null  int64  \n",
      " 4   d_analisa          13266 non-null  int64  \n",
      " 5   k_verbal           13266 non-null  int64  \n",
      " 6   o_hasil            13266 non-null  int64  \n",
      " 7   fleks              13266 non-null  int64  \n",
      " 8   s_kerja            13266 non-null  int64  \n",
      " 9   m_prestasi         13266 non-null  int64  \n",
      " 10  kerjasama          13266 non-null  int64  \n",
      " 11  k_interpersonal    13266 non-null  int64  \n",
      " 12  pil_jabatan        13266 non-null  object \n",
      " 13  prosen_kecocokan   13266 non-null  float64\n",
      " 14  hasil_rekomendasi  13266 non-null  object \n",
      "dtypes: float64(1), int64(10), object(4)\n",
      "memory usage: 1.6+ MB\n"
     ]
    }
   ],
   "source": [
    "data.info()"
   ]
  },
  {
   "cell_type": "code",
   "execution_count": 12,
   "id": "4733018a",
   "metadata": {},
   "outputs": [
    {
     "name": "stdout",
     "output_type": "stream",
     "text": [
      "                  mean  median       std\n",
      "pil_jabatan                             \n",
      "DBT          79.211520   79.17  5.559156\n",
      "NON SALES    89.246476   90.00  6.999763\n",
      "SALES        82.022004   81.67  7.115550\n"
     ]
    }
   ],
   "source": [
    "#Mencari informasi statistik dalam data\n",
    "\n",
    "informasi_statistik = data.groupby('pil_jabatan')['prosen_kecocokan'].agg(['mean', 'median', 'std'])\n",
    "\n",
    "print(informasi_statistik)"
   ]
  },
  {
   "cell_type": "markdown",
   "id": "96550fb5",
   "metadata": {},
   "source": [
    "Jabatan NON sales memiliki nilai statistik tertinggi sedangkan jabatan DBT memiliki nilai statistik terendah. Nilai rata-rata dan mediannya memiliki selisih yang tidak signifikan yang berarti skor rata-rata dan skor mayoritasnya berada pada nilai tersebut. Jabatan SALES memiliki variasi nilai yang lebih besar daripada 2 jabatan lainnya yang menunjukkan sebarannya lebih tinggi."
   ]
  },
  {
   "cell_type": "markdown",
   "id": "8d951d12",
   "metadata": {},
   "source": [
    "**Visualisasi data untuk memcari informasi**"
   ]
  },
  {
   "cell_type": "code",
   "execution_count": 13,
   "id": "40e879ac",
   "metadata": {},
   "outputs": [
    {
     "data": {
      "image/png": "[encoded data removed]",
      "text/plain": [
       "<Figure size 432x288 with 1 Axes>"
      ]
     },
     "metadata": {
      "needs_background": "light"
     },
     "output_type": "display_data"
    }
   ],
   "source": [
    "import matplotlib.pyplot as plt\n",
    "import seaborn as sns\n",
    "\n",
    "kolom_numerik = ['prosen_kecocokan']  \n",
    "  \n",
    "for i in kolom_numerik:  \n",
    "    plt.figure(figsize=(6,4))  \n",
    "    ax = sns.boxplot(x = 'pil_jabatan',y = i, data = data)  \n",
    "    plt.title('\\nBox Plot {}\\n'.format(i), fontsize=12)  \n",
    "    plt.savefig('Visualisasi_Hasil_prosen_kecocokan.png')\n",
    "    plt.show() "
   ]
  },
  {
   "cell_type": "markdown",
   "id": "1d9a43af",
   "metadata": {},
   "source": [
    "Berdasarkan hasil visualisasi di atas, skor prosen_kecocokan untuk ketiga jabatan memiliki nilai minimum yang setara. Sedangkan untuk nilai maksimalnya, jabatan DBT cenderung memiliki skor maksimal yang lebih rendah daripada 2 jabatan lainnya, yaitu sekitar 95. Namun, terdapat outlier yang memberikan informasi bahwa terdapat 2 kandidat dengan skor di atas 95.\n",
    "\n",
    "- Untuk jabatan SALES, sebanyak 75% kandidatnya memiliki skor kurang dari 87 dan 25% sisanya memiliki skor lebih dari 87. Skor tertingginya adalah 100 dan terendahnya sekitar 71. Sebaran variasi skornya berada pada rentang skor 76-87.\n",
    "- Untuk jabatan NON SALES, sebanyak 25% kandidatnya memiliki skor kurang dari 84 dan 75% sisanya memiliki skor di atas 84. Skor tertingginya adalah 100 dan terendahnya sekitar 72. Sebaran variasi skornya berada pada rentang skor 84-95.\n",
    "- Untuk jabatan DBT, sebanyak 75% kandidatnya memiliki skor kurang dari 84 dan 25% sisanya memiliki skor lebih dari 84. Skor tertingginya adalah 100 dan terendahnya 75. Sebaran variasi skornya berada pada rentang skor 75-84."
   ]
  },
  {
   "cell_type": "markdown",
   "id": "f968c910",
   "metadata": {},
   "source": [
    "Berdasarkan informasi di atas, dapat disimpulkan bahwa aspek psikologis untuk jabatan NON SALES memiliki kualitas terbaik dan jabatan DBT memiliki kualitas terendah dilihat dari skor prosen_kecocokannya."
   ]
  },
  {
   "cell_type": "code",
   "execution_count": 14,
   "id": "9ce904d3",
   "metadata": {},
   "outputs": [
    {
     "data": {
      "image/png": "[encoded data removed]",
      "text/plain": [
       "<Figure size 1152x864 with 1 Axes>"
      ]
     },
     "metadata": {
      "needs_background": "light"
     },
     "output_type": "display_data"
    }
   ],
   "source": [
    "kolom_numerik = ['prosen_kecocokan']  \n",
    "  \n",
    "for i in kolom_numerik:  \n",
    "    plt.figure(figsize=(16,12))  \n",
    "    ax = sns.boxplot(x = 'Region',y = i, data = data)  \n",
    "    plt.title('\\nBox Plot {}\\n'.format(i), fontsize=12)  \n",
    "    plt.savefig('Visualisasi_Hasil_clustering_Numerik.png')\n",
    "    plt.show()"
   ]
  },
  {
   "cell_type": "markdown",
   "id": "a0db5994",
   "metadata": {},
   "source": [
    "Jika dilihat dari visualisasi di atas, skor prosen_kecocokan untuk masing-masing daerah memiliki nilai minimum dan maksimum yang sama. Hanya saja terdapat perbedaan pada sebaran variasinya. Daerah Jawa Tengah memiliki sebaran nilai yang tertinggi dibandingkan dengan daerah lainnya. "
   ]
  }
 ],
 "metadata": {
  "kernelspec": {
   "display_name": "Python 3 (ipykernel)",
   "language": "python",
   "name": "python3"
  },
  "language_info": {
   "codemirror_mode": {
    "name": "ipython",
    "version": 3
   },
   "file_extension": ".py",
   "mimetype": "text/x-python",
   "name": "python",
   "nbconvert_exporter": "python",
   "pygments_lexer": "ipython3",
   "version": "3.9.12"
  }
 },
 "nbformat": 4,
 "nbformat_minor": 5
}
